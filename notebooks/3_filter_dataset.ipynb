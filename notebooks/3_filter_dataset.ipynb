{
 "cells": [
  {
   "cell_type": "markdown",
   "metadata": {},
   "source": [
    "# Filtering the dataset\n",
    "\n",
    "Create a small subset of full data"
   ]
  },
  {
   "cell_type": "code",
   "execution_count": 1,
   "metadata": {
    "ExecuteTime": {
     "end_time": "2025-03-21T18:27:49.626811Z",
     "start_time": "2025-03-21T18:27:46.769445Z"
    }
   },
   "outputs": [],
   "source": [
    "import sys\n",
    "import os\n",
    "import pandas as pd\n",
    "import json\n",
    "\n",
    "module_path = os.path.abspath(os.path.join('..'))\n",
    "if module_path not in sys.path:\n",
    "    sys.path.append(module_path)"
   ]
  },
  {
   "cell_type": "code",
   "execution_count": 2,
   "metadata": {
    "ExecuteTime": {
     "end_time": "2025-03-21T18:27:50.379955Z",
     "start_time": "2025-03-21T18:27:50.366718Z"
    }
   },
   "outputs": [],
   "source": [
    "METADATA_PATH = os.path.join(\"..\", \"data\", \"metadata.csv\")\n",
    "ARTICLES_CLEAN_DIR = os.path.join(\"..\", \"data\", \"articles_clean\")\n",
    "\n",
    "FILTERED_METADATA_PATH = os.path.join(\"..\", \"data\", \"filtered_metadata.csv\")"
   ]
  },
  {
   "cell_type": "markdown",
   "metadata": {},
   "source": [
    "Available metadata fields"
   ]
  },
  {
   "cell_type": "code",
   "execution_count": 24,
   "metadata": {
    "ExecuteTime": {
     "end_time": "2025-03-21T18:27:50.886907Z",
     "start_time": "2025-03-21T18:27:50.386309Z"
    }
   },
   "outputs": [
    {
     "data": {
      "application/vnd.microsoft.datawrangler.viewer.v0+json": {
       "columns": [
        {
         "name": "index",
         "rawType": "int64",
         "type": "integer"
        },
        {
         "name": "id",
         "rawType": "object",
         "type": "string"
        },
        {
         "name": "filename",
         "rawType": "object",
         "type": "string"
        },
        {
         "name": "published_at",
         "rawType": "datetime64[ns]",
         "type": "datetime"
        },
        {
         "name": "author",
         "rawType": "object",
         "type": "string"
        },
        {
         "name": "title",
         "rawType": "object",
         "type": "string"
        },
        {
         "name": "category",
         "rawType": "object",
         "type": "string"
        },
        {
         "name": "section",
         "rawType": "object",
         "type": "string"
        },
        {
         "name": "word_count",
         "rawType": "int64",
         "type": "integer"
        },
        {
         "name": "financial_crisis",
         "rawType": "float64",
         "type": "float"
        },
        {
         "name": "sustainability",
         "rawType": "float64",
         "type": "float"
        },
        {
         "name": "fake_news",
         "rawType": "float64",
         "type": "float"
        },
        {
         "name": "ai",
         "rawType": "float64",
         "type": "float"
        },
        {
         "name": "digitalization",
         "rawType": "float64",
         "type": "float"
        },
        {
         "name": "local_journalism",
         "rawType": "float64",
         "type": "float"
        },
        {
         "name": "covid",
         "rawType": "float64",
         "type": "float"
        },
        {
         "name": "demographics",
         "rawType": "float64",
         "type": "float"
        },
        {
         "name": "innovation",
         "rawType": "float64",
         "type": "float"
        },
        {
         "name": "valid_indicator",
         "rawType": "bool",
         "type": "boolean"
        }
       ],
       "conversionMethod": "pd.DataFrame",
       "ref": "bb1f278a-65dc-4f80-a014-ee0b4547a149",
       "rows": [
        [
         "0",
         "948de0b1-b3b7-4c45-b22a-a074d3761cfc",
         "unerbittliche-unvernunft.json",
         "2010-06-09 18:41:00",
         "Walter Hämmerle",
         "Unerbittliche Unvernunft",
         "Leitartikel",
         "Meinung",
         "284",
         "0.387",
         "0.4209",
         "0.3082",
         "0.3251",
         "0.3121",
         "0.3207",
         "0.3231",
         "0.3609",
         "0.3064",
         "False"
        ],
        [
         "1",
         "d3da5c1b-9f10-4603-a648-d511cee9c14e",
         "englisches-fruhstuck.json",
         "2016-02-17 17:50:00",
         "WZ-Korrespondentin Martyna Czarnowska",
         "Englisches Frühstück",
         "Politik",
         "Nachrichten",
         "411",
         "0.0158",
         "0.2556",
         "0.3991",
         "0.303",
         "0.0306",
         "0.1843",
         "0.4453",
         "0.1941",
         "0.1053",
         "False"
        ],
        [
         "2",
         "a23cee8a-a2e3-43b7-b62b-6e5c3c0f2e87",
         "gewinne-sprudeln-im-osten.json",
         "2008-03-26 18:57:00",
         "Helmut Dité",
         "Gewinne sprudeln im Osten",
         "Wirtschaft",
         "Nachrichten",
         "383",
         "0.4757",
         "0.3447",
         "0.2938",
         "0.2853",
         "0.2373",
         "0.2838",
         "0.3346",
         "0.324",
         "0.3013",
         "False"
        ],
        [
         "3",
         "9fa0d59f-06ed-434f-9a7e-aabeff65fcbf",
         "starke-ansage-leere-drohung.json",
         "2015-12-17 18:15:00",
         "Michael Schmölzer",
         "Starke Ansage - leere Drohung?",
         "Politik",
         "Nachrichten",
         "766",
         "0.4811",
         "0.5247",
         "0.4703",
         "0.4721",
         "0.5028",
         "0.4828",
         "0.5063",
         "0.508",
         "0.4979",
         "False"
        ],
        [
         "4",
         "dda1a4cf-76b9-41b0-a637-d0b7e12625d9",
         "wirtschaftspolitik-als-waffe.json",
         "2022-11-14 09:30:00",
         "Peter De Coensel",
         "Wirtschaftspolitik als Waffe",
         "Gastkommentare",
         "Meinung",
         "760",
         "0.2336",
         "0.271",
         "0.1838",
         "0.2259",
         "0.1745",
         "0.1517",
         "0.2287",
         "0.243",
         "0.1161",
         "False"
        ]
       ],
       "shape": {
        "columns": 18,
        "rows": 5
       }
      },
      "text/html": [
       "<div>\n",
       "<style scoped>\n",
       "    .dataframe tbody tr th:only-of-type {\n",
       "        vertical-align: middle;\n",
       "    }\n",
       "\n",
       "    .dataframe tbody tr th {\n",
       "        vertical-align: top;\n",
       "    }\n",
       "\n",
       "    .dataframe thead th {\n",
       "        text-align: right;\n",
       "    }\n",
       "</style>\n",
       "<table border=\"1\" class=\"dataframe\">\n",
       "  <thead>\n",
       "    <tr style=\"text-align: right;\">\n",
       "      <th></th>\n",
       "      <th>id</th>\n",
       "      <th>filename</th>\n",
       "      <th>published_at</th>\n",
       "      <th>author</th>\n",
       "      <th>title</th>\n",
       "      <th>category</th>\n",
       "      <th>section</th>\n",
       "      <th>word_count</th>\n",
       "      <th>financial_crisis</th>\n",
       "      <th>sustainability</th>\n",
       "      <th>fake_news</th>\n",
       "      <th>ai</th>\n",
       "      <th>digitalization</th>\n",
       "      <th>local_journalism</th>\n",
       "      <th>covid</th>\n",
       "      <th>demographics</th>\n",
       "      <th>innovation</th>\n",
       "      <th>valid_indicator</th>\n",
       "    </tr>\n",
       "  </thead>\n",
       "  <tbody>\n",
       "    <tr>\n",
       "      <th>0</th>\n",
       "      <td>948de0b1-b3b7-4c45-b22a-a074d3761cfc</td>\n",
       "      <td>unerbittliche-unvernunft.json</td>\n",
       "      <td>2010-06-09 18:41:00</td>\n",
       "      <td>Walter Hämmerle</td>\n",
       "      <td>Unerbittliche Unvernunft</td>\n",
       "      <td>Leitartikel</td>\n",
       "      <td>Meinung</td>\n",
       "      <td>284</td>\n",
       "      <td>0.3870</td>\n",
       "      <td>0.4209</td>\n",
       "      <td>0.3082</td>\n",
       "      <td>0.3251</td>\n",
       "      <td>0.3121</td>\n",
       "      <td>0.3207</td>\n",
       "      <td>0.3231</td>\n",
       "      <td>0.3609</td>\n",
       "      <td>0.3064</td>\n",
       "      <td>False</td>\n",
       "    </tr>\n",
       "    <tr>\n",
       "      <th>1</th>\n",
       "      <td>d3da5c1b-9f10-4603-a648-d511cee9c14e</td>\n",
       "      <td>englisches-fruhstuck.json</td>\n",
       "      <td>2016-02-17 17:50:00</td>\n",
       "      <td>WZ-Korrespondentin Martyna Czarnowska</td>\n",
       "      <td>Englisches Frühstück</td>\n",
       "      <td>Politik</td>\n",
       "      <td>Nachrichten</td>\n",
       "      <td>411</td>\n",
       "      <td>0.0158</td>\n",
       "      <td>0.2556</td>\n",
       "      <td>0.3991</td>\n",
       "      <td>0.3030</td>\n",
       "      <td>0.0306</td>\n",
       "      <td>0.1843</td>\n",
       "      <td>0.4453</td>\n",
       "      <td>0.1941</td>\n",
       "      <td>0.1053</td>\n",
       "      <td>False</td>\n",
       "    </tr>\n",
       "    <tr>\n",
       "      <th>2</th>\n",
       "      <td>a23cee8a-a2e3-43b7-b62b-6e5c3c0f2e87</td>\n",
       "      <td>gewinne-sprudeln-im-osten.json</td>\n",
       "      <td>2008-03-26 18:57:00</td>\n",
       "      <td>Helmut Dité</td>\n",
       "      <td>Gewinne sprudeln im Osten</td>\n",
       "      <td>Wirtschaft</td>\n",
       "      <td>Nachrichten</td>\n",
       "      <td>383</td>\n",
       "      <td>0.4757</td>\n",
       "      <td>0.3447</td>\n",
       "      <td>0.2938</td>\n",
       "      <td>0.2853</td>\n",
       "      <td>0.2373</td>\n",
       "      <td>0.2838</td>\n",
       "      <td>0.3346</td>\n",
       "      <td>0.3240</td>\n",
       "      <td>0.3013</td>\n",
       "      <td>False</td>\n",
       "    </tr>\n",
       "    <tr>\n",
       "      <th>3</th>\n",
       "      <td>9fa0d59f-06ed-434f-9a7e-aabeff65fcbf</td>\n",
       "      <td>starke-ansage-leere-drohung.json</td>\n",
       "      <td>2015-12-17 18:15:00</td>\n",
       "      <td>Michael Schmölzer</td>\n",
       "      <td>Starke Ansage - leere Drohung?</td>\n",
       "      <td>Politik</td>\n",
       "      <td>Nachrichten</td>\n",
       "      <td>766</td>\n",
       "      <td>0.4811</td>\n",
       "      <td>0.5247</td>\n",
       "      <td>0.4703</td>\n",
       "      <td>0.4721</td>\n",
       "      <td>0.5028</td>\n",
       "      <td>0.4828</td>\n",
       "      <td>0.5063</td>\n",
       "      <td>0.5080</td>\n",
       "      <td>0.4979</td>\n",
       "      <td>False</td>\n",
       "    </tr>\n",
       "    <tr>\n",
       "      <th>4</th>\n",
       "      <td>dda1a4cf-76b9-41b0-a637-d0b7e12625d9</td>\n",
       "      <td>wirtschaftspolitik-als-waffe.json</td>\n",
       "      <td>2022-11-14 09:30:00</td>\n",
       "      <td>Peter De Coensel</td>\n",
       "      <td>Wirtschaftspolitik als Waffe</td>\n",
       "      <td>Gastkommentare</td>\n",
       "      <td>Meinung</td>\n",
       "      <td>760</td>\n",
       "      <td>0.2336</td>\n",
       "      <td>0.2710</td>\n",
       "      <td>0.1838</td>\n",
       "      <td>0.2259</td>\n",
       "      <td>0.1745</td>\n",
       "      <td>0.1517</td>\n",
       "      <td>0.2287</td>\n",
       "      <td>0.2430</td>\n",
       "      <td>0.1161</td>\n",
       "      <td>False</td>\n",
       "    </tr>\n",
       "  </tbody>\n",
       "</table>\n",
       "</div>"
      ],
      "text/plain": [
       "                                     id                           filename  \\\n",
       "0  948de0b1-b3b7-4c45-b22a-a074d3761cfc      unerbittliche-unvernunft.json   \n",
       "1  d3da5c1b-9f10-4603-a648-d511cee9c14e          englisches-fruhstuck.json   \n",
       "2  a23cee8a-a2e3-43b7-b62b-6e5c3c0f2e87     gewinne-sprudeln-im-osten.json   \n",
       "3  9fa0d59f-06ed-434f-9a7e-aabeff65fcbf   starke-ansage-leere-drohung.json   \n",
       "4  dda1a4cf-76b9-41b0-a637-d0b7e12625d9  wirtschaftspolitik-als-waffe.json   \n",
       "\n",
       "         published_at                                 author  \\\n",
       "0 2010-06-09 18:41:00                        Walter Hämmerle   \n",
       "1 2016-02-17 17:50:00  WZ-Korrespondentin Martyna Czarnowska   \n",
       "2 2008-03-26 18:57:00                            Helmut Dité   \n",
       "3 2015-12-17 18:15:00                      Michael Schmölzer   \n",
       "4 2022-11-14 09:30:00                       Peter De Coensel   \n",
       "\n",
       "                            title        category      section  word_count  \\\n",
       "0        Unerbittliche Unvernunft     Leitartikel      Meinung         284   \n",
       "1            Englisches Frühstück         Politik  Nachrichten         411   \n",
       "2       Gewinne sprudeln im Osten      Wirtschaft  Nachrichten         383   \n",
       "3  Starke Ansage - leere Drohung?         Politik  Nachrichten         766   \n",
       "4    Wirtschaftspolitik als Waffe  Gastkommentare      Meinung         760   \n",
       "\n",
       "   financial_crisis  sustainability  fake_news      ai  digitalization  \\\n",
       "0            0.3870          0.4209     0.3082  0.3251          0.3121   \n",
       "1            0.0158          0.2556     0.3991  0.3030          0.0306   \n",
       "2            0.4757          0.3447     0.2938  0.2853          0.2373   \n",
       "3            0.4811          0.5247     0.4703  0.4721          0.5028   \n",
       "4            0.2336          0.2710     0.1838  0.2259          0.1745   \n",
       "\n",
       "   local_journalism   covid  demographics  innovation  valid_indicator  \n",
       "0            0.3207  0.3231        0.3609      0.3064            False  \n",
       "1            0.1843  0.4453        0.1941      0.1053            False  \n",
       "2            0.2838  0.3346        0.3240      0.3013            False  \n",
       "3            0.4828  0.5063        0.5080      0.4979            False  \n",
       "4            0.1517  0.2287        0.2430      0.1161            False  "
      ]
     },
     "execution_count": 24,
     "metadata": {},
     "output_type": "execute_result"
    }
   ],
   "source": [
    "metadata = pd.read_csv(METADATA_PATH)\n",
    "metadata[\"published_at\"] = pd.to_datetime(metadata[\"published_at\"])\n",
    "metadata.head()"
   ]
  },
  {
   "cell_type": "markdown",
   "metadata": {},
   "source": [
    "Analysis"
   ]
  },
  {
   "cell_type": "code",
   "execution_count": 4,
   "metadata": {
    "ExecuteTime": {
     "end_time": "2025-03-21T18:27:51.008865Z",
     "start_time": "2025-03-21T18:27:50.980863Z"
    }
   },
   "outputs": [
    {
     "data": {
      "text/plain": [
       "count                            87754\n",
       "mean     2012-09-30 06:09:26.172482048\n",
       "min                1998-04-23 00:00:00\n",
       "25%                2008-05-01 18:43:00\n",
       "50%                2012-11-14 18:32:30\n",
       "75%                2017-10-25 04:35:15\n",
       "max                2023-06-30 14:13:00\n",
       "Name: published_at, dtype: object"
      ]
     },
     "execution_count": 4,
     "metadata": {},
     "output_type": "execute_result"
    }
   ],
   "source": [
    "metadata[\"published_at\"].describe()"
   ]
  },
  {
   "cell_type": "code",
   "execution_count": 5,
   "metadata": {
    "ExecuteTime": {
     "end_time": "2025-03-21T18:27:51.133467Z",
     "start_time": "2025-03-21T18:27:51.100740Z"
    }
   },
   "outputs": [
    {
     "data": {
      "text/plain": [
       "count       87754\n",
       "unique         47\n",
       "top       Politik\n",
       "freq        31919\n",
       "Name: category, dtype: object"
      ]
     },
     "execution_count": 5,
     "metadata": {},
     "output_type": "execute_result"
    }
   ],
   "source": [
    "metadata[\"category\"].describe()"
   ]
  },
  {
   "cell_type": "code",
   "execution_count": 6,
   "metadata": {
    "ExecuteTime": {
     "end_time": "2025-03-21T18:27:51.553365Z",
     "start_time": "2025-03-21T18:27:51.525658Z"
    }
   },
   "outputs": [
    {
     "data": {
      "text/plain": [
       "category\n",
       "Politik                                  31919\n",
       "Wirtschaft                               16512\n",
       "Kommentare                               11408\n",
       "Gastkommentare                            7253\n",
       "Wissen                                    5632\n",
       "Europaarchiv                              5341\n",
       "Leitartikel                               3292\n",
       "Analysen                                  2478\n",
       "Reflexionen                               2308\n",
       "Recht                                      652\n",
       "Auf Justitias Spuren                       196\n",
       "Leserforum                                 170\n",
       "Klimawandel                                 52\n",
       "Wiener Zeitung - seit 1703                  47\n",
       "Sterbehilfe                                 44\n",
       "1914                                        39\n",
       "100 Jahre Republik                          38\n",
       "Stadtentwicklung                            28\n",
       "Wald                                        27\n",
       "Asyl                                        26\n",
       "EU für mich                                 26\n",
       "100 Jahre Verfassung                        26\n",
       "Frauentag                                   24\n",
       "Artenschutz                                 22\n",
       "Raumfahrt                                   22\n",
       "Gesundheitspolitik                          20\n",
       "Februar 1934                                16\n",
       "Gehirn                                      15\n",
       "Sand                                        14\n",
       "Autismus                                    14\n",
       "Ars Electronica                             11\n",
       "Ibiza-U-Ausschuss                           11\n",
       "Römische Verträge                           10\n",
       "Raumvisionen                                 9\n",
       "Genozid an Armeniern                         8\n",
       "Novemberpogrome                              7\n",
       "9/11                                         6\n",
       "Tschernobyl                                  6\n",
       "310 Jahre Wiener Zeitung                     5\n",
       "70 Jahre Israel                              5\n",
       "Das Beet                                     5\n",
       "Transgender                                  3\n",
       "70 Jahre Befreiung von Auschwitz             3\n",
       "Bildungsdebatte                              1\n",
       "Rotes Wien                                   1\n",
       "Kriegsende 1945 - Zeitzeugen erzählen        1\n",
       "Direkte Demokratie                           1\n",
       "Name: count, dtype: int64"
      ]
     },
     "execution_count": 6,
     "metadata": {},
     "output_type": "execute_result"
    }
   ],
   "source": [
    "metadata[\"category\"].value_counts()  # 47 different categories"
   ]
  },
  {
   "cell_type": "code",
   "execution_count": 7,
   "metadata": {
    "ExecuteTime": {
     "end_time": "2025-03-21T18:27:51.802206Z",
     "start_time": "2025-03-21T18:27:51.760644Z"
    }
   },
   "outputs": [
    {
     "data": {
      "text/plain": [
       "section\n",
       "Nachrichten    56371\n",
       "Meinung        22123\n",
       "Archiv          7931\n",
       "Themen           961\n",
       "Dossiers         368\n",
       "Name: count, dtype: int64"
      ]
     },
     "execution_count": 7,
     "metadata": {},
     "output_type": "execute_result"
    }
   ],
   "source": [
    "metadata[\"section\"].value_counts()"
   ]
  },
  {
   "cell_type": "code",
   "execution_count": 8,
   "metadata": {
    "ExecuteTime": {
     "end_time": "2025-03-21T18:27:52.193622Z",
     "start_time": "2025-03-21T18:27:52.164618Z"
    }
   },
   "outputs": [
    {
     "data": {
      "text/plain": [
       "count    87754.000000\n",
       "mean       520.058379\n",
       "std        357.316632\n",
       "min          0.000000\n",
       "25%        286.000000\n",
       "50%        428.000000\n",
       "75%        642.000000\n",
       "max       5995.000000\n",
       "Name: word_count, dtype: float64"
      ]
     },
     "execution_count": 8,
     "metadata": {},
     "output_type": "execute_result"
    }
   ],
   "source": [
    "metadata[\"word_count\"].describe()"
   ]
  },
  {
   "cell_type": "code",
   "execution_count": 9,
   "metadata": {
    "ExecuteTime": {
     "end_time": "2025-03-21T18:27:52.442950Z",
     "start_time": "2025-03-21T18:27:52.418825Z"
    }
   },
   "outputs": [
    {
     "data": {
      "text/plain": [
       "np.int64(1449)"
      ]
     },
     "execution_count": 9,
     "metadata": {},
     "output_type": "execute_result"
    }
   ],
   "source": [
    "# Missing data\n",
    "metadata[\"author\"].isnull().sum()"
   ]
  },
  {
   "cell_type": "code",
   "execution_count": 55,
   "metadata": {},
   "outputs": [],
   "source": [
    "epstein_files = []\n",
    "with open('../epstein_files.txt') as file:\n",
    "    for line in file.readlines():\n",
    "        filename = line.removeprefix(\"C:\\\\src\\\\hackathon\\\\hackathon_mar_2025\\\\data\\\\articles_clean\\\\\").removesuffix('\\n')\n",
    "        epstein_files.append(filename)\n"
   ]
  },
  {
   "cell_type": "markdown",
   "metadata": {},
   "source": [
    "Filter the metadata df according to your needs\n",
    "\n",
    "Hint: Try to not make the dataset too big for processing reasons (try around to get a feeling what your machine can handle)"
   ]
  },
  {
   "cell_type": "code",
   "execution_count": 56,
   "metadata": {
    "ExecuteTime": {
     "end_time": "2025-03-21T18:27:52.695772Z",
     "start_time": "2025-03-21T18:27:52.665208Z"
    }
   },
   "outputs": [
    {
     "name": "stdout",
     "output_type": "stream",
     "text": [
      "Expected number of articles: 143\n"
     ]
    }
   ],
   "source": [
    "filtered_metadata = metadata[\n",
    "    # Date\n",
    "    #(metadata[\"published_at\"] >= \"2007-01-01\") &\n",
    "    #(metadata[\"published_at\"] < \"2012-01-01\") &\n",
    "\n",
    "    # Authors\n",
    "    # (metadata[\"author\"].isin([\"Christine Zeiner\", \"Silke Farmer\"])) &\n",
    "\n",
    "    # Category\n",
    "    # (metadata[\"section\"].isin([\"Politik\", \"Wirtschaft\"])) &  # ('Politik', 'Wirtschaft', 'Kommentare', 'Gastkommentare', 'Wissen', see above for all categories)\n",
    "\n",
    "    # Section\n",
    "    # (metadata[\"section\"].isin([\"Nachrichten\", \"Meinung\"])) &  # ('Meinung', 'Nachrichten', 'Archiv', 'Themen', 'Dossiers')\n",
    "\n",
    "    # Word count\n",
    "    # (metadata[\"word_count\"] >= 100) &\n",
    "\n",
    "    # Tags\n",
    "    ((metadata[\"valid_indicator\"]) & # this is an estimate if the probabilities assigned to the category are actually valid, recommended to use but will reduce the dataset size\n",
    "    #(metadata[\"financial_crisis\"] > 0.8) # ('financial_crisis', 'sustainability', 'fake_news', 'ai', 'digitalization', 'local_journalism', 'covid', 'demographics', 'innovation')\n",
    "    (metadata[\"category\"].isin(['Recht']))) |\n",
    "    (metadata['filename'].isin(epstein_files))\n",
    "]\n",
    "print(f\"Expected number of articles: {filtered_metadata.shape[0]}\")"
   ]
  },
  {
   "cell_type": "markdown",
   "metadata": {},
   "source": [
    "Get filtered articles"
   ]
  },
  {
   "cell_type": "code",
   "execution_count": 57,
   "metadata": {
    "ExecuteTime": {
     "end_time": "2025-03-21T18:27:56.882381Z",
     "start_time": "2025-03-21T18:27:56.870938Z"
    }
   },
   "outputs": [],
   "source": [
    "def filter_articles(filtered_metadata, articles_dir):\n",
    "    \"\"\"\n",
    "    Filter articles based on filtered metadata\n",
    "    \"\"\"\n",
    "    articles = {}\n",
    "    for _, row in filtered_metadata.iterrows():\n",
    "        article_path = os.path.join(articles_dir, row[\"filename\"])\n",
    "        with open(article_path, \"r\", encoding=\"utf-8\") as file:\n",
    "            article = json.load(file)\n",
    "            articles[row[\"filename\"]] = article\n",
    "    return articles"
   ]
  },
  {
   "cell_type": "code",
   "execution_count": 50,
   "metadata": {
    "ExecuteTime": {
     "end_time": "2025-03-21T18:28:00.534305Z",
     "start_time": "2025-03-21T18:27:57.529335Z"
    }
   },
   "outputs": [],
   "source": [
    "filtered_articles = filter_articles(filtered_metadata, ARTICLES_CLEAN_DIR)"
   ]
  },
  {
   "cell_type": "code",
   "execution_count": 51,
   "metadata": {
    "ExecuteTime": {
     "end_time": "2025-03-21T18:28:00.549406Z",
     "start_time": "2025-03-21T18:28:00.539895Z"
    }
   },
   "outputs": [
    {
     "name": "stdout",
     "output_type": "stream",
     "text": [
      "Number of articles: 143\n",
      "\n",
      "Sample article metadata:\n",
      " id                  a04948c4-0233-45f3-9254-ee5806ee8f1f\n",
      "filename                 verraterische-blutstropfen.json\n",
      "published_at                         2015-06-04 20:00:00\n",
      "author                                   Heiner Boberski\n",
      "title                         Verräterische Blutstropfen\n",
      "category                                          Wissen\n",
      "section                                      Nachrichten\n",
      "word_count                                           559\n",
      "financial_crisis                                  0.3887\n",
      "sustainability                                    0.4845\n",
      "fake_news                                         0.3991\n",
      "ai                                                0.4591\n",
      "digitalization                                    0.4603\n",
      "local_journalism                                  0.4584\n",
      "covid                                             0.4906\n",
      "demographics                                       0.505\n",
      "innovation                                        0.5192\n",
      "valid_indicator                                    False\n",
      "Name: 177, dtype: object\n",
      "\n",
      "Sample article:\n",
      " {'id': 'a04948c4-0233-45f3-9254-ee5806ee8f1f', 'published_at': '2015-06-04 20:00', 'author': 'Heiner Boberski', 'title': 'Verräterische Blutstropfen', 'category': 'Wissen', 'section': 'Nachrichten', 'text': 'Boston/Wien. Aus einem einzigen Blutstropfen können jetzt Forscher gleichzeitig auf mehr als 1000 verschiedene Virenstämme testen, die aktuell oder zu einem früheren Zeitpunkt eine Person infiziert haben. Mit der neuen Methode Vir-Scan haben Forscher des Brigham and Women‘s Hospital (BWH) sowie der Harvard Medical School (HMS) in den USA nach dem Nachweis früherer Virusinfektionen gesucht und im Durchschnitt pro Person zehn Virenarten entdeckt.\\nDie neue Studie beleuchtet das Zusammenspiel zwischen der Immunität einer Person und dem menschlichen \"Virom\", der unermesslichen Reihe von Viren, die Menschen befallen können. Das hat Konsequenzen für den klinischen Bereich und für die Immunologie. Das Forscherteam um den Genetiker Stephen Elledge publizierte die Studie gerade im Fachmagazin \"Science\".\\n\"Vir-Scan ist ein wenig wie ein Zurückschauen in der Zeit. Nutzt man diese Methode, so können wir einen winzigen Blutstropfen nehmen und bestimmen, welche Viren eine Person im Lauf der Jahre infiziert haben\", erklärt Elledge, der am BWH und an der HMS forscht. \"Einzigartig daran ist das Ausmaß. Heute muss ein Arzt raten, um welches Virus es sich handelt und individuell darauf testen. Mit Vir-Scan können wir mit einem einzigen Test nach so gut wie allen Viren Ausschau halten, auch nach seltenen.\"\\nKlassische Bluttests, bekannt unter dem Namen Elisa (Enzyme-Linked Immunosorbent Assay), basieren auf Enzymmarkierungen und können nur ein Pathogen pro Zeitpunkt entdecken. Elisa-Tests wurden auch nicht gegen alle Viren entwickelt, was ihren Nutzen weiter einschränkt. Was Sensibilität und Genauigkeit anlangt, sei Vir-Scan den Elisa-Tests ähnlich, meint das Forscherteam.\\nFür die neue Studie testeten Elledge und seine Kollegen Blutproben von fast 600 Personen aus Peru, den USA, Südafrika und Thailand. Das Team entwickelte und verwendete eine Sammlung von Peptiden - das sind kurze Proteinfragmente, die von Viren abgeleitet wurden -, die mehr als 1000 Virenstämme repräsentierten. Damit suchten sie nach dem Beweis für frühere virale Einwirkungen. Die Raten der viralen Einwirkung variierten nach Alter, geographischer Lage und HIV-Status, doch das Team fand heraus, dass eine kleine Anzahl von Peptiden von der überwiegenden Mehrheit der Immunsysteme wiedererkannt wurde.\\nDas Fazit von Elledge: \"In dieser Studie allein haben wir mehr Antikörper/Peptid-Interaktionen mit viralen Proteinen identifiziert als in der bisherigen Geschichte der gesamten Virenforschung identifiziert wurden.\"\\nWie erwartet waren Antikörper gegen bestimmte Viren zwar unter Erwachsenen verbreitet, aber nicht unter Kindern, da Kinder diesen Viren vermutlich noch nicht ausgesetzt waren. Menschen mit HIV-Infektionen besaßen Antikörper gegen weit mehr Viren als Personen ohne HIV.\\nVir-Scan könnte Forschern jedenfalls behilflich sein, Korrelationen zwischen den früheren Auswirkungen eines bestimmten Virus und der Entwicklung einer Krankheit im späteren Leben zu entdecken. Ein Zusammenhang zwischen dem Epstein-Barr-Virus - einem der gebräuchlichsten Viren, das sich in dieser Studie findet - und dem Risiko, an bestimmten Krebsarten zu erkranken, ist bereits bekannt. Die neue Methode kann helfen, andere und bisher unbekannte Zusammenhänge zu enthüllen.\\n\"Eine Virusinfektion kann einen unauslöschlichen Fußabdruck im Immunsystem hinterlassen\", sagte Stephen Elledge. \"Dass wir eine einfache, reproduzierbare Methode wie Vir-Scan haben, kann uns helfen, neue Hypothesen zu generieren und das Zusammenspiel zwischen dem Virom und dem Immunsystem desBetroffenen zu verstehen. Das hat Konsequenzen für eine Vielzahl von Krankheiten.\"\\nWenn Vir-Scan hält, was es verspricht, so könnte das unbefangene Herangehen mit dieser Methode unerwartete Faktoren zu Tage fördern, die sich auf die Gesundheit eines Patienten auswirken. Sie erweitert auch die Möglichkeiten, virale Infektionen in großen Populationen zu analysieren und zu vergleichen. Eine umfassende Analyse kann bereits um ungefähr 25 Dollar pro Blutprobe vorgenommen werden.\\n'}\n"
     ]
    }
   ],
   "source": [
    "# Check some articles from that sample\n",
    "sample_id = 0\n",
    "\n",
    "print(f\"Number of articles: {len(filtered_articles)}\\n\")\n",
    "print(f\"Sample article metadata:\\n {filtered_metadata.iloc[sample_id]}\\n\")\n",
    "print(f\"Sample article:\\n {filtered_articles[list(filtered_articles.keys())[sample_id]]}\")"
   ]
  },
  {
   "cell_type": "code",
   "execution_count": 52,
   "metadata": {
    "ExecuteTime": {
     "end_time": "2025-03-21T11:19:38.698367Z",
     "start_time": "2025-03-21T11:19:35.837879Z"
    }
   },
   "outputs": [],
   "source": [
    "# Store the filtered metadata to csv\n",
    "if input(\"Do you want to store (overwrite) the filtered metadata to csv? (y/n): \") == \"y\":\n",
    "    filtered_metadata.to_csv(FILTERED_METADATA_PATH, index=False)"
   ]
  }
 ],
 "metadata": {
  "kernelspec": {
   "display_name": ".venv",
   "language": "python",
   "name": "python3"
  },
  "language_info": {
   "codemirror_mode": {
    "name": "ipython",
    "version": 3
   },
   "file_extension": ".py",
   "mimetype": "text/x-python",
   "name": "python",
   "nbconvert_exporter": "python",
   "pygments_lexer": "ipython3",
   "version": "3.13.2"
  }
 },
 "nbformat": 4,
 "nbformat_minor": 2
}
